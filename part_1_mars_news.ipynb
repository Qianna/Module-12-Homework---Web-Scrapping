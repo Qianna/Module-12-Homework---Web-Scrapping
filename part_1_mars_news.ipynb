{
 "cells": [
  {
   "cell_type": "markdown",
   "metadata": {},
   "source": [
    "# Module 12 Challenge\n",
    "## Deliverable 1: Scrape Titles and Preview Text from Mars News"
   ]
  },
  {
   "cell_type": "code",
   "execution_count": 1,
   "metadata": {},
   "outputs": [],
   "source": [
    "# Import Splinter and BeautifulSoup\n",
    "from splinter import Browser\n",
    "from bs4 import BeautifulSoup as soup\n",
    "from webdriver_manager.chrome import ChromeDriverManager"
   ]
  },
  {
   "cell_type": "code",
   "execution_count": 4,
   "metadata": {},
   "outputs": [
    {
     "name": "stderr",
     "output_type": "stream",
     "text": [
      "[WDM] - Downloading: 100%|██████████| 6.58M/6.58M [00:17<00:00, 391kB/s]\n"
     ]
    }
   ],
   "source": [
    "executable_path = {'executable_path': ChromeDriverManager().install()}"
   ]
  },
  {
   "cell_type": "code",
   "execution_count": 5,
   "metadata": {
    "scrolled": true
   },
   "outputs": [],
   "source": [
    "browser = Browser('chrome', **executable_path, headless=False)"
   ]
  },
  {
   "cell_type": "markdown",
   "metadata": {},
   "source": [
    "### Step 1: Visit the Website\n",
    "\n",
    "1. Use automated browsing to visit the [Mars NASA news site](https://redplanetscience.com). Inspect the page to identify which elements to scrape.\n",
    "\n",
    "      > **Hint** To identify which elements to scrape, you might want to inspect the page by using Chrome DevTools."
   ]
  },
  {
   "cell_type": "code",
   "execution_count": 6,
   "metadata": {},
   "outputs": [],
   "source": [
    "# Visit the Mars NASA news site: https://redplanetscience.com\n",
    "mars_news_url = 'https://redplanetscience.com'\n",
    "browser.visit(mars_news_url)"
   ]
  },
  {
   "cell_type": "markdown",
   "metadata": {},
   "source": [
    "### Step 2: Scrape the Website\n",
    "\n",
    "Create a Beautiful Soup object and use it to extract text elements from the website."
   ]
  },
  {
   "cell_type": "code",
   "execution_count": 7,
   "metadata": {},
   "outputs": [],
   "source": [
    "# Create a Beautiful Soup object\n",
    "mars_news_html = browser.html\n",
    "mars_soup = soup(mars_news_html, 'html.parser')"
   ]
  },
  {
   "cell_type": "code",
   "execution_count": 8,
   "metadata": {},
   "outputs": [
    {
     "data": {
      "text/plain": [
       "[<div class=\"content_title\">NASA's MAVEN Observes Martian Night Sky Pulsing in Ultraviolet Light</div>,\n",
       " <div class=\"content_title\">NASA's Curiosity Takes Selfie With 'Mary Anning' on the Red Planet</div>,\n",
       " <div class=\"content_title\">HiRISE Views NASA's InSight and Curiosity on Mars</div>,\n",
       " <div class=\"content_title\">3 Things We've Learned From NASA's Mars InSight </div>,\n",
       " <div class=\"content_title\">NASA's Mars Perseverance Rover Passes Flight Readiness Review</div>,\n",
       " <div class=\"content_title\">With Mars Methane Mystery Unsolved, Curiosity Serves Scientists a New One: Oxygen</div>,\n",
       " <div class=\"content_title\">7 Things to Know About the Mars 2020 Perseverance Rover Mission</div>,\n",
       " <div class=\"content_title\">NASA's Curiosity Keeps Rolling As Team Operates Rover From Home</div>,\n",
       " <div class=\"content_title\">NASA's New Mars Rover Will Use X-Rays to Hunt Fossils</div>,\n",
       " <div class=\"content_title\">NASA's Mars Perseverance Rover Gets Its Sample Handling System</div>,\n",
       " <div class=\"content_title\">5 Hidden Gems Are Riding Aboard NASA's Perseverance Rover</div>,\n",
       " <div class=\"content_title\">The Man Who Wanted to Fly on Mars</div>,\n",
       " <div class=\"content_title\">NASA's Mars 2020 Comes Full Circle</div>,\n",
       " <div class=\"content_title\">Newfound Martian Aurora Actually the Most Common; Sheds Light on Mars' Changing Climate</div>,\n",
       " <div class=\"content_title\">NASA's Mars 2020 Rover Completes Its First Drive</div>]"
      ]
     },
     "execution_count": 8,
     "metadata": {},
     "output_type": "execute_result"
    }
   ],
   "source": [
    "# Extract all the text elements\n",
    "# Extract news title\n",
    "title = mars_soup.find_all('div', class_='content_title')\n",
    "title"
   ]
  },
  {
   "cell_type": "code",
   "execution_count": 9,
   "metadata": {},
   "outputs": [
    {
     "data": {
      "text/plain": [
       "[<div class=\"article_teaser_body\">Vast areas of the Martian night sky pulse in ultraviolet light, according to images from NASA’s MAVEN spacecraft. The results are being used to illuminate complex circulation patterns in the Martian atmosphere.</div>,\n",
       " <div class=\"article_teaser_body\">The Mars rover has drilled three samples of rock in this clay-enriched region since arriving in July.</div>,\n",
       " <div class=\"article_teaser_body\">New images taken from space offer the clearest orbital glimpse yet of InSight as well as a view of Curiosity rolling along.</div>,\n",
       " <div class=\"article_teaser_body\">Scientists are finding new mysteries since the geophysics mission landed two years ago.</div>,\n",
       " <div class=\"article_teaser_body\">​The agency's Mars 2020 mission has one more big prelaunch review – the Launch Readiness Review, on July 27.</div>,\n",
       " <div class=\"article_teaser_body\">For the first time in the history of space exploration, scientists have measured the seasonal changes in the gases that fill the air directly above the surface of Gale Crater on Mars. </div>,\n",
       " <div class=\"article_teaser_body\">NASA's next rover to the Red Planet is slated to launch no earlier than July 30. These highlights will get you up to speed on the ambitious mission.</div>,\n",
       " <div class=\"article_teaser_body\">The team has learned to meet new challenges as they work remotely on the Mars mission.</div>,\n",
       " <div class=\"article_teaser_body\">PIXL, an instrument on the end of the Perseverance rover's arm, will search for chemical fingerprints left by ancient microbes.</div>,\n",
       " <div class=\"article_teaser_body\">The system will be collecting and storing Martian rock and soil. Its installation marks another milestone in the march toward the July launch period.</div>,\n",
       " <div class=\"article_teaser_body\">The symbols, mottos, and small objects added to the agency's newest Mars rover serve a variety of purposes, from functional to decorative.</div>,\n",
       " <div class=\"article_teaser_body\">The Mars Helicopter is riding to the Red Planet this summer with NASA's Perseverance rover. The helicopter's chief engineer, Bob Balaram, shares the saga of how it came into being.</div>,\n",
       " <div class=\"article_teaser_body\">Aiming to pinpoint the Martian vehicle's center of gravity, engineers took NASA's 2,300-pound Mars 2020 rover for a spin in the clean room at JPL. </div>,\n",
       " <div class=\"article_teaser_body\">A type of Martian aurora first identified by NASA’s MAVEN spacecraft in 2016 is actually the most common form of aurora occurring on the Red Planet, according to new results from the mission.</div>,\n",
       " <div class=\"article_teaser_body\">In a 10-plus-hour marathon, the rover steered, turned and drove in 3-foot (1-meter) increments over small ramps.</div>]"
      ]
     },
     "execution_count": 9,
     "metadata": {},
     "output_type": "execute_result"
    }
   ],
   "source": [
    "# Extract news preview\n",
    "preview = mars_soup.find_all('div', class_='article_teaser_body')\n",
    "preview"
   ]
  },
  {
   "cell_type": "markdown",
   "metadata": {},
   "source": [
    "### Step 3: Store the Results\n",
    "\n",
    "Extract the titles and preview text of the news articles that you scraped. Store the scraping results in Python data structures as follows:\n",
    "\n",
    "* Store each title-and-preview pair in a Python dictionary. And, give each dictionary two keys: `title` and `preview`. An example is the following:\n",
    "\n",
    "  ```python\n",
    "  {'title': \"Mars Rover Begins Mission!\", \n",
    "        'preview': \"NASA's Mars Rover begins a multiyear mission to collect data about the little-explored planet.\"}\n",
    "  ```\n",
    "\n",
    "* Store all the dictionaries in a Python list.\n",
    "\n",
    "* Print the list in your notebook."
   ]
  },
  {
   "cell_type": "code",
   "execution_count": 10,
   "metadata": {},
   "outputs": [],
   "source": [
    "# Create an empty list to store the dictionaries\n",
    "news_list = []"
   ]
  },
  {
   "cell_type": "code",
   "execution_count": 12,
   "metadata": {},
   "outputs": [],
   "source": [
    "# Loop through the text elements\n",
    "# Extract the title and preview text from the elements\n",
    "# Store each title and preview pair in a dictionary\n",
    "# Add the dictionary to the list\n",
    "for i in range(len(title)):\n",
    "    news_dict = {'title':title[i].text, 'preview':preview[i].text}\n",
    "    news_list.append(news_dict)\n",
    "    "
   ]
  },
  {
   "cell_type": "code",
   "execution_count": 15,
   "metadata": {},
   "outputs": [
    {
     "name": "stdout",
     "output_type": "stream",
     "text": [
      "[{'preview': 'Vast areas of the Martian night sky pulse in ultraviolet light, '\n",
      "             'according to images from NASA’s MAVEN spacecraft. The results '\n",
      "             'are being used to illuminate complex circulation patterns in the '\n",
      "             'Martian atmosphere.',\n",
      "  'title': \"NASA's MAVEN Observes Martian Night Sky Pulsing in Ultraviolet \"\n",
      "           'Light'},\n",
      " {'preview': 'The Mars rover has drilled three samples of rock in this '\n",
      "             'clay-enriched region since arriving in July.',\n",
      "  'title': \"NASA's Curiosity Takes Selfie With 'Mary Anning' on the Red \"\n",
      "           'Planet'},\n",
      " {'preview': 'New images taken from space offer the clearest orbital glimpse '\n",
      "             'yet of InSight as well as a view of Curiosity rolling along.',\n",
      "  'title': \"HiRISE Views NASA's InSight and Curiosity on Mars\"},\n",
      " {'preview': 'Scientists are finding new mysteries since the geophysics '\n",
      "             'mission landed two years ago.',\n",
      "  'title': \"3 Things We've Learned From NASA's Mars InSight \"},\n",
      " {'preview': \"\\u200bThe agency's Mars 2020 mission has one more big prelaunch \"\n",
      "             'review – the Launch Readiness Review, on July 27.',\n",
      "  'title': \"NASA's Mars Perseverance Rover Passes Flight Readiness Review\"},\n",
      " {'preview': 'For the first time in the history of space exploration, '\n",
      "             'scientists have measured the seasonal changes in the gases that '\n",
      "             'fill the air directly above the surface of Gale Crater on Mars. ',\n",
      "  'title': 'With Mars Methane Mystery Unsolved, Curiosity Serves Scientists a '\n",
      "           'New One: Oxygen'},\n",
      " {'preview': \"NASA's next rover to the Red Planet is slated to launch no \"\n",
      "             'earlier than July 30. These highlights will get you up to speed '\n",
      "             'on the ambitious mission.',\n",
      "  'title': '7 Things to Know About the Mars 2020 Perseverance Rover Mission'},\n",
      " {'preview': 'The team has learned to meet new challenges as they work '\n",
      "             'remotely on the Mars mission.',\n",
      "  'title': \"NASA's Curiosity Keeps Rolling As Team Operates Rover From Home\"},\n",
      " {'preview': \"PIXL, an instrument on the end of the Perseverance rover's arm, \"\n",
      "             'will search for chemical fingerprints left by ancient microbes.',\n",
      "  'title': \"NASA's New Mars Rover Will Use X-Rays to Hunt Fossils\"},\n",
      " {'preview': 'The system will be collecting and storing Martian rock and soil. '\n",
      "             'Its installation marks another milestone in the march toward the '\n",
      "             'July launch period.',\n",
      "  'title': \"NASA's Mars Perseverance Rover Gets Its Sample Handling System\"},\n",
      " {'preview': \"The symbols, mottos, and small objects added to the agency's \"\n",
      "             'newest Mars rover serve a variety of purposes, from functional '\n",
      "             'to decorative.',\n",
      "  'title': \"5 Hidden Gems Are Riding Aboard NASA's Perseverance Rover\"},\n",
      " {'preview': 'The Mars Helicopter is riding to the Red Planet this summer with '\n",
      "             \"NASA's Perseverance rover. The helicopter's chief engineer, Bob \"\n",
      "             'Balaram, shares the saga of how it came into being.',\n",
      "  'title': 'The Man Who Wanted to Fly on Mars'},\n",
      " {'preview': \"Aiming to pinpoint the Martian vehicle's center of gravity, \"\n",
      "             \"engineers took NASA's 2,300-pound Mars 2020 rover for a spin in \"\n",
      "             'the clean room at JPL. ',\n",
      "  'title': \"NASA's Mars 2020 Comes Full Circle\"},\n",
      " {'preview': 'A type of Martian aurora first identified by NASA’s MAVEN '\n",
      "             'spacecraft in 2016 is actually the most common form of aurora '\n",
      "             'occurring on the Red Planet, according to new results from the '\n",
      "             'mission.',\n",
      "  'title': 'Newfound Martian Aurora Actually the Most Common; Sheds Light on '\n",
      "           \"Mars' Changing Climate\"},\n",
      " {'preview': 'In a 10-plus-hour marathon, the rover steered, turned and drove '\n",
      "             'in 3-foot (1-meter) increments over small ramps.',\n",
      "  'title': \"NASA's Mars 2020 Rover Completes Its First Drive\"}]\n"
     ]
    }
   ],
   "source": [
    "# Print the list to confirm success\n",
    "from pprint import pprint\n",
    "pprint(news_list)"
   ]
  },
  {
   "cell_type": "code",
   "execution_count": 16,
   "metadata": {},
   "outputs": [],
   "source": [
    "browser.quit()"
   ]
  },
  {
   "cell_type": "markdown",
   "metadata": {},
   "source": [
    "### (Optional) Step 4: Export the Data\n",
    "\n",
    "Optionally, store the scraped data in a file or database (to ease sharing the data with others). To do so, export the scraped data to either a JSON file or a MongoDB database."
   ]
  },
  {
   "cell_type": "code",
   "execution_count": 18,
   "metadata": {},
   "outputs": [],
   "source": [
    "# Export data to JSON\n",
    "import json\n",
    "jsonString = json.dumps(news_list)\n",
    "jsonFile = open(\"Mars_News.json\", \"w\")\n",
    "jsonFile.write(jsonString)\n",
    "jsonFile.close()"
   ]
  },
  {
   "cell_type": "code",
   "execution_count": null,
   "metadata": {},
   "outputs": [],
   "source": [
    "# Export data to MongoDB\n"
   ]
  }
 ],
 "metadata": {
  "kernelspec": {
   "display_name": "Python 3 (ipykernel)",
   "language": "python",
   "name": "python3"
  },
  "language_info": {
   "codemirror_mode": {
    "name": "ipython",
    "version": 3
   },
   "file_extension": ".py",
   "mimetype": "text/x-python",
   "name": "python",
   "nbconvert_exporter": "python",
   "pygments_lexer": "ipython3",
   "version": "3.7.7"
  }
 },
 "nbformat": 4,
 "nbformat_minor": 4
}
